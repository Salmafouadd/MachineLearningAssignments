{
 "cells": [
  {
   "cell_type": "code",
   "execution_count": 3,
   "id": "4a1cfa65",
   "metadata": {
    "scrolled": true
   },
   "outputs": [
    {
     "name": "stderr",
     "output_type": "stream",
     "text": [
      "C:\\Users\\owner\\anaconda3\\lib\\site-packages\\pandas\\core\\indexing.py:1732: SettingWithCopyWarning: \n",
      "A value is trying to be set on a copy of a slice from a DataFrame\n",
      "\n",
      "See the caveats in the documentation: https://pandas.pydata.org/pandas-docs/stable/user_guide/indexing.html#returning-a-view-versus-a-copy\n",
      "  self._setitem_single_block(indexer, value, name)\n"
     ]
    },
    {
     "data": {
      "image/png": "[encoded data removed]",
      "text/plain": [
       "<Figure size 432x288 with 1 Axes>"
      ]
     },
     "metadata": {
      "needs_background": "light"
     },
     "output_type": "display_data"
    },
    {
     "name": "stdout",
     "output_type": "stream",
     "text": [
      "mse 0.21827049500717227\n",
      "0.8712871287128713 score\n"
     ]
    }
   ],
   "source": [
    "import numpy as np \n",
    "import pandas as pd \n",
    "import matplotlib.pyplot as plt\n",
    "\n",
    "header=['CRIM', 'ZN', 'INDUS', 'CHAS', 'NOX', 'RM', 'AGE', 'DIS', \n",
    "        'RAD', 'TAX', 'PTRATIO', 'B', 'LSTAT', 'MEDV']\n",
    "df = pd.read_csv(\"housing.csv\", names=header, delim_whitespace=True)\n",
    "X = df.drop(['MEDV'], axis=1)\n",
    "Y = df.MEDV\n",
    "for i in range(13):\n",
    "    X_max=max(X.iloc[:,i])\n",
    "    X_min=min(X.iloc[:,i])\n",
    "    X.iloc[:,i]=(X.iloc[:,i]-X_min)/(X_max-X_min)\n",
    "\n",
    "Y_max=max(Y.iloc[:])\n",
    "Y_min=min(Y.iloc[:])\n",
    "Y.iloc[:]=(Y.iloc[:]-Y_min)/(Y_max-Y_min)\n",
    "\n",
    "def splitTT(X_norm, percentTrain): \n",
    "    np.random.shuffle(np.array(X_norm))\n",
    "    pd.DataFrame(X_norm)\n",
    "    index = round(len(X_norm)*percentTrain)\n",
    "    X_train, X_test = X_norm.iloc[:index,:], X_norm.iloc[index:,:]\n",
    "    X_split = [X_train, X_test]\n",
    "    return X_split\n",
    "\n",
    "def splitTTY(Y_norm, percentTrain): \n",
    "    np.random.shuffle(np.array(Y_norm))\n",
    "    pd.DataFrame(Y_norm)\n",
    "    index = round(len(Y_norm)*percentTrain)\n",
    "    Y_train, Y_test = Y_norm.iloc[:index], Y_norm.iloc[index:]\n",
    "    Y_split = [Y_train, Y_test]\n",
    "    return Y_split\n",
    "X_train,X_test1=splitTT(X,0.6)\n",
    "X_test,X_cv=splitTT(X_test1,0.5)\n",
    "Y_train,Y_test1=splitTTY(Y,0.6)\n",
    "Y_test,Y_cv=splitTTY(Y_test1,0.5)\n",
    "\n",
    "def rmse(y_test, y_pred):\n",
    "    N = len(y_test)\n",
    "    y_test = np.array(y_test)\n",
    "    y_pred = np.array(y_pred)\n",
    "    mse = np.sum((y_test - y_pred)**2) / (2*N) \n",
    "    rmse = np.sqrt(mse)\n",
    "    return rmse\n",
    "def rmse_lamda(y_test, y_pred,theta0,theta1):#regularization\n",
    "    cost_reg=100\n",
    "    best_lamda=0\n",
    "    lamda=np.array([0.01,0.02,0.04,0.08,0.16,0.32,0.64,1.28,2.56,5.12,10.24])\n",
    "    N = len(y_test)\n",
    "    for l in range(np.size(lamda)):\n",
    "        y_test = np.array(y_test)\n",
    "        y_pred = np.array(y_pred)\n",
    "        mse = (np.sum((y_test - y_pred)**2) / (2*N))+(lamda[l]/2*N)*((np.sum(theta1**2))+theta0**2) \n",
    "        rmse = np.sqrt(mse)\n",
    "        if rmse<cost_reg:\n",
    "            cost_reg=rmse\n",
    "            best_lamda=lamda[l]\n",
    "    return rmse,best_lamda\n",
    "\n",
    "def gradient_descent(X, y, a = 0.04, epoch = 1000):  \n",
    "    dim = len(X.columns)\n",
    "    b = np.random.random()\n",
    "    weights = np.random.rand(dim)\n",
    "    for e in range(0, epoch+1):\n",
    "        y_hat = b + np.dot(X, weights) \n",
    "        b = b - a*((np.sum(y_hat - y)*2)/len(y))\n",
    "        weights = weights - a*((np.dot((y_hat-y),X)*2)/len(y))\n",
    "    return y_hat, b, weights\n",
    "\n",
    "cost_cv=100\n",
    "theta0_cv=0\n",
    "theta1_cv=np.zeros(13)\n",
    "for j in range(13):\n",
    "    y_hat, theta0, theta1=gradient_descent(X_train.iloc[:,0:j], Y_train, a=0.02 , epoch = 1000)\n",
    "    y_pred= theta0 + np.dot(X_cv.iloc[:,0:j], theta1)\n",
    "    root_cv=rmse(Y_cv,y_pred)\n",
    "    root_reg,lamda_best=rmse_lamda(Y_cv, y_pred,theta0,theta1)\n",
    "    if root_cv<cost_cv:\n",
    "        cost_cv=root_cv\n",
    "        theta0_cv=theta0\n",
    "        theta1_cv[0:j]=theta1\n",
    "    if root_reg<cost_cv:\n",
    "        cost_cv=root_reg\n",
    "        theta0_cv=theta0\n",
    "        theta1_cv[0:j]=theta1\n",
    "y_pred_test=theta0_cv+np.dot(X_test.iloc[:,0:np.size(theta1_cv)], theta1_cv)\n",
    "cost_Y_test=rmse(Y_test, y_pred_test)\n",
    "cost_test_reg=rmse(Y_test, y_pred_test)+(lamda_best/2*101)*((np.sum(theta1_cv**2))+theta0_cv**2)\n",
    "\n",
    "\n",
    "plt.scatter(Y_test, y_pred_test, c = 'green') \n",
    "plt.xlabel(\"Price: in $1000's\")\n",
    "plt.ylabel(\"Predicted value\")\n",
    "plt.title(\"True value vs predicted value : Linear Regression\")\n",
    "plt.show()\n",
    "\n",
    "from sklearn import metrics\n",
    "import matplotlib.pyplot as plt\n",
    "\n",
    "from sklearn.metrics import accuracy_score\n",
    "\n",
    "print('mse', np.sqrt(metrics.mean_squared_error(Y_test, y_pred_test)))\n",
    "print(accuracy_score(np.round(Y_test), np.round((pd.DataFrame(y_pred_test)))),'score' )#score"
   ]
  },
  {
   "cell_type": "code",
   "execution_count": null,
   "id": "7f1915b2",
   "metadata": {},
   "outputs": [],
   "source": []
  }
 ],
 "metadata": {
  "kernelspec": {
   "display_name": "Python 3 (ipykernel)",
   "language": "python",
   "name": "python3"
  },
  "language_info": {
   "codemirror_mode": {
    "name": "ipython",
    "version": 3
   },
   "file_extension": ".py",
   "mimetype": "text/x-python",
   "name": "python",
   "nbconvert_exporter": "python",
   "pygments_lexer": "ipython3",
   "version": "3.9.7"
  }
 },
 "nbformat": 4,
 "nbformat_minor": 5
}
